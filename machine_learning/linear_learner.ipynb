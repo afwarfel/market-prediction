{
 "cells": [
  {
   "cell_type": "code",
   "execution_count": 2,
   "metadata": {},
   "outputs": [],
   "source": [
    "from fredapi import Fred\n",
    "import pandas as pd"
   ]
  },
  {
   "cell_type": "markdown",
   "metadata": {},
   "source": [
    "First we should define the problem: We are going to attempt to predict the price of VTI."
   ]
  },
  {
   "cell_type": "code",
   "execution_count": 3,
   "metadata": {},
   "outputs": [
    {
     "ename": "NameError",
     "evalue": "name 'pd' is not defined",
     "output_type": "error",
     "traceback": [
      "\u001b[0;31m---------------------------------------------------------------------------\u001b[0m",
      "\u001b[0;31mNameError\u001b[0m                                 Traceback (most recent call last)",
      "Cell \u001b[0;32mIn [3], line 1\u001b[0m\n\u001b[0;32m----> 1\u001b[0m \u001b[39mdef\u001b[39;00m \u001b[39mcreate_date_table\u001b[39m(start\u001b[39m=\u001b[39m\u001b[39m'\u001b[39m\u001b[39m1900-01-01\u001b[39m\u001b[39m'\u001b[39m, end\u001b[39m=\u001b[39mpd\u001b[39m.\u001b[39mTimestamp\u001b[39m.\u001b[39mtoday()):\n\u001b[1;32m      2\u001b[0m     \u001b[39m\"\"\"This function is meant to create a master date table starting from a start date to an end date with many other columns attached to it that identify quarters, weeks, etc. \u001b[39;00m\n\u001b[1;32m      3\u001b[0m \n\u001b[1;32m      4\u001b[0m \u001b[39m    Args:\u001b[39;00m\n\u001b[0;32m   (...)\u001b[0m\n\u001b[1;32m      9\u001b[0m \u001b[39m        DataFrame: This is a dataframe containing one record for each day between the start and the end date.\u001b[39;00m\n\u001b[1;32m     10\u001b[0m \u001b[39m    \"\"\"\u001b[39;00m\n\u001b[1;32m     12\u001b[0m     \u001b[39mdef\u001b[39;00m \u001b[39mnext_weekday\u001b[39m(d, weekday):\n",
      "\u001b[0;31mNameError\u001b[0m: name 'pd' is not defined"
     ]
    }
   ],
   "source": [
    "def create_date_table(start='1900-01-01', end=pd.Timestamp.today()):\n",
    "    \"\"\"This function is meant to create a master date table starting from a start date to an end date with many other columns attached to it that identify quarters, weeks, etc. \n",
    "\n",
    "    Args:\n",
    "        start (str, optional): The start date for your master date table. Defaults to '1900-01-01'.\n",
    "        end (DateTime, optional): The end date for your master date table. Defaults to pd.Timestamp.today().\n",
    "\n",
    "    Returns:\n",
    "        DataFrame: This is a dataframe containing one record for each day between the start and the end date.\n",
    "    \"\"\"\n",
    "\n",
    "    def next_weekday(d, weekday):\n",
    "        days_ahead = weekday - d.weekday()\n",
    "        if days_ahead <= 0:\n",
    "            days_ahead += 7\n",
    "        return d + datetime.timedelta(days_ahead)\n",
    "\n",
    "    start = pd.to_datetime(start) - pd.DateOffset(1)\n",
    "    end = pd.to_datetime(end) + pd.DateOffset(1)\n",
    "\n",
    "    df = pd.DataFrame({\"date\": pd.date_range(start, end)})\n",
    "    df[\"week\"] = df['date'].dt.isocalendar().week\n",
    "    df[\"month\"] = df['date'].dt.month\n",
    "    df[\"quarter\"] = df['date'].dt.quarter\n",
    "    df['quarter_end_date'] = [date - pd.tseries.offsets.DateOffset(\n",
    "        days=1) + pd.tseries.offsets.QuarterEnd() for date in df['date']]\n",
    "    df['month_end_date'] = df['date'] + pd.tseries.offsets.MonthEnd(0)\n",
    "    df['week_end_date'] = df['date'].map(lambda x: next_weekday(\n",
    "        x, 6) if x.weekday() < 6 else x) - pd.DateOffset(days=1)\n",
    "    df[\"year\"] = df['date'].dt.year\n",
    "    df[\"year_half\"] = (df.quarter + 1) // 2\n",
    "    df['new_week'] = df.week.diff() != 0\n",
    "    df['new_month'] = df.month.diff() != 0\n",
    "    df['new_quarter'] = df.quarter.diff() != 0\n",
    "    df['last_day_of_month'] = df['new_month'].shift(-1)\n",
    "    df['last_day_of_quarter'] = df['new_quarter'].shift(-1)\n",
    "    df['new_year'] = df.year.diff() != 0\n",
    "    df['new_year_half'] = df.year_half.diff() != 0\n",
    "\n",
    "    df = df.iloc[1:-1, :]  # Remove the first and last record of the dataframe\n",
    "\n",
    "    df['week'] = np.where(df['new_year'] == True, 1, df['week'])\n",
    "\n",
    "    return df"
   ]
  },
  {
   "cell_type": "markdown",
   "metadata": {},
   "source": []
  }
 ],
 "metadata": {
  "kernelspec": {
   "display_name": "Python 3.9.10 ('env': venv)",
   "language": "python",
   "name": "python3"
  },
  "language_info": {
   "codemirror_mode": {
    "name": "ipython",
    "version": 3
   },
   "file_extension": ".py",
   "mimetype": "text/x-python",
   "name": "python",
   "nbconvert_exporter": "python",
   "pygments_lexer": "ipython3",
   "version": "3.9.10"
  },
  "orig_nbformat": 4,
  "vscode": {
   "interpreter": {
    "hash": "781217c833a2ca44f4e13e7ab83eb900b02ba781a46dd73d84cce8efc2a25682"
   }
  }
 },
 "nbformat": 4,
 "nbformat_minor": 2
}
